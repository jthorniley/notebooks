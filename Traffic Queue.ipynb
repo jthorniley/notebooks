{
 "cells": [
  {
   "cell_type": "markdown",
   "metadata": {},
   "source": [
    "# Vehicle dynamics\n",
    "\n",
    "The position of vehicle $i$ is $x_i(t)$ The distance to the vehicle or object\n",
    "in front of vehicle $i$ is $q_i(t)$.\n",
    "\n",
    "The vehicle speed $v_i(t) = \\dot{x}_i(t)$. \n",
    "\n",
    "The control input to the vehicle is the acceleration $u_i$.\n",
    "\n",
    "The desired distance to the obstacle in front $\\hat{q}_i$ is calculated by scaling\n",
    "with the current vehicle speed:\n",
    "\n",
    "$$ \\hat{q}_i(t) = k_q v_i(t) $$\n",
    "\n",
    "Define a PD controller as:\n",
    "\n",
    "$$ r_i(t) = q_i(t) - \\hat{q}_i(t) $$\n",
    "$$ u_i = k_p r_i(t) + k_d \\frac{r_i(t) - r_i(t-\\Delta t)}{\\Delta t} $$\n"
   ]
  },
  {
   "cell_type": "markdown",
   "metadata": {},
   "source": []
  },
  {
   "cell_type": "code",
   "execution_count": 1,
   "metadata": {},
   "outputs": [],
   "source": [
    "%matplotlib qt\n",
    "import numpy as np\n",
    "from matplotlib import pyplot as plt\n",
    "from matplotlib.animation import FuncAnimation\n",
    "from matplotlib.transforms import Affine2D\n",
    "from matplotlib.collections import CircleCollection\n",
    "from matplotlib.widgets import CheckButtons\n"
   ]
  },
  {
   "cell_type": "code",
   "execution_count": 2,
   "metadata": {},
   "outputs": [],
   "source": [
    "class RandomTraffic:\n",
    "    def __init__(self, \n",
    "        n_vehicles: int,\n",
    "        track_length: float,\n",
    "        stop_traffic: bool,\n",
    "        k_p: float, \n",
    "        k_d: float,\n",
    "        k_q: float,\n",
    "        k_qmin: float,\n",
    "        v_min: float,\n",
    "        v_max: float,\n",
    "        u_min: float = -10.0,\n",
    "        u_max: float = 1.0\n",
    "    ) -> None:\n",
    "        self.n_vehicles = n_vehicles\n",
    "        self.track_length = track_length\n",
    "        self.stop_traffic = stop_traffic\n",
    "        self.k_p = k_p\n",
    "        self.k_d = k_d\n",
    "        self.k_q = k_q\n",
    "        self.k_qmin = k_qmin\n",
    "        self.v_min = v_min\n",
    "        self.v_max = v_max\n",
    "        self.u_min = u_min\n",
    "        self.u_max = u_max\n",
    "        self.position = np.zeros(n_vehicles, dtype=np.float32)\n",
    "        self.velocity = np.zeros(n_vehicles, dtype=np.float32)\n",
    "        self.active = np.zeros(n_vehicles, dtype=np.bool8)\n",
    "        self.r_old = np.zeros(n_vehicles, dtype=np.float32)\n",
    "    \n",
    "    def enable_vehicle(self, init_speed: float = 0):\n",
    "        \"\"\"Find the first available vehicle slot and set active to True\"\"\"\n",
    "        argmin = self.active.argmin()\n",
    "        \n",
    "        if not self.active[argmin]:\n",
    "            # If argmin is already active, there's no space to add another vehicle\n",
    "            self.active[argmin] = True\n",
    "            self.position[argmin] = 0.0\n",
    "            self.velocity[argmin] = init_speed\n",
    "\n",
    "    def q(self):\n",
    "        p = self.position[self.active]\n",
    "        distance = np.zeros_like(p)\n",
    "\n",
    "        order = np.argsort(p)\n",
    "        p_in_front = np.concatenate([p[order][1:], [self.track_length*2]])\n",
    "        if self.stop_traffic:\n",
    "            stop_position = self.track_length * 0.5\n",
    "\n",
    "            i = np.count_nonzero([p < stop_position])\n",
    "            if i > 0:\n",
    "                p_in_front[i-1] = stop_position\n",
    "\n",
    "        diff = p_in_front - p[order]\n",
    "        distance[order] = diff\n",
    "        output = np.zeros_like(self.position)\n",
    "        output[self.active] = distance        \n",
    "        return output\n",
    "\n",
    "    def qhat(self):\n",
    "        return np.max([self.k_qmin * np.ones_like(self.velocity), self.k_q * self.velocity], axis=0)\n",
    "\n",
    "    def r(self):\n",
    "        return self.q() - self.qhat()\n",
    "\n",
    "    def r_diff(self, dt):\n",
    "        return (self.r() - self.r_old) / dt\n",
    "\n",
    "    def u(self, dt):\n",
    "        value = self.k_p * self.r() + self.k_d * self.r_diff(dt)\n",
    "        return np.clip(value, self.u_min, self.u_max)\n",
    "        \n",
    "    def step(self, dt: float):\n",
    "        u_calc = self.u(dt)\n",
    "        v_calc = self.velocity + dt * u_calc\n",
    "        v_calc = np.clip(v_calc, self.v_min, self.v_max)\n",
    "        x_calc = self.position + dt * v_calc\n",
    "\n",
    "        self.velocity = v_calc\n",
    "        self.position = x_calc\n",
    "\n",
    "        self.active = self.active * (self.position < self.track_length)\n",
    "        self.position[self.active == False] = 0.0\n",
    "\n",
    "        self.r_old = self.r()\n",
    "        "
   ]
  },
  {
   "cell_type": "code",
   "execution_count": 3,
   "metadata": {},
   "outputs": [],
   "source": [
    "class Circles:\n",
    "    def __init__(self, traffic: RandomTraffic):\n",
    "        self.traffic = traffic\n",
    "        self.fig = plt.figure(figsize=(5, 1))\n",
    "        self.ax = self.fig.add_axes([0, 0, 1, 1], frameon=False)\n",
    "        self.ax.set_xlim([0, 200])\n",
    "        self.ax.set_ylim([0, 20])\n",
    "\n",
    "        self.circles = CircleCollection([], animated=True)\n",
    "        self.ax.add_artist(self.circles)\n",
    "\n",
    "        self.check_ax = self.fig.add_axes([0.7, -0.2, 0.2, 0.9], frameon=False)\n",
    "        self.check_buttons = CheckButtons(self.check_ax, ['Stop traffic'], [traffic.stop_traffic])\n",
    "        for label in self.check_buttons.labels:\n",
    "            label.set_fontsize(10)\n",
    "\n",
    "        def on_click(label):\n",
    "            traffic.stop_traffic = not traffic.stop_traffic\n",
    "        self.check_buttons.on_clicked(on_click)\n",
    "\n",
    "    def update(self):\n",
    "        positions = self.traffic.position[self.traffic.active]\n",
    "        self.circles.set_sizes(np.ones_like(positions) * 10)\n",
    "        self.circles.set_offsets(np.c_[positions, 50 * np.ones_like(positions)])\n",
    "        return [self.circles, *[y for l in self.check_buttons.lines for y in l]]\n"
   ]
  },
  {
   "cell_type": "code",
   "execution_count": 5,
   "metadata": {},
   "outputs": [],
   "source": [
    "t = RandomTraffic(\n",
    "    n_vehicles=100,\n",
    "    track_length=400,\n",
    "    stop_traffic=False,\n",
    "    k_p=100,\n",
    "    k_d=10,\n",
    "    k_q=1,\n",
    "    k_qmin=8,\n",
    "    v_min=0,\n",
    "    v_max=30,\n",
    "    u_max=10,\n",
    "    u_min=-40\n",
    ")\n",
    "t.enable_vehicle(10)\n",
    "circles = Circles(t)\n",
    "\n",
    "all_positions = []\n",
    "all_times = []\n",
    "\n",
    "current_time = 0.0\n",
    "def update(frame):\n",
    "    global current_time, all_times, all_positions\n",
    "    if np.random.rand() < 0.02:\n",
    "        t.enable_vehicle(10)\n",
    "    t.step(0.05)\n",
    "    current_time += 0.05\n",
    "    all_times.append(current_time)\n",
    "    all_positions.append(t.position)\n",
    "    return circles.update()\n",
    "\n",
    "anim = FuncAnimation(circles.fig, update, interval=50, blit=True)\n"
   ]
  },
  {
   "cell_type": "code",
   "execution_count": 6,
   "metadata": {},
   "outputs": [
    {
     "data": {
      "text/plain": [
       "[<matplotlib.lines.Line2D at 0x7fc190657910>,\n",
       " <matplotlib.lines.Line2D at 0x7fc190657970>,\n",
       " <matplotlib.lines.Line2D at 0x7fc190657a90>,\n",
       " <matplotlib.lines.Line2D at 0x7fc190657bb0>,\n",
       " <matplotlib.lines.Line2D at 0x7fc190657cd0>,\n",
       " <matplotlib.lines.Line2D at 0x7fc190657df0>,\n",
       " <matplotlib.lines.Line2D at 0x7fc190657f10>,\n",
       " <matplotlib.lines.Line2D at 0x7fc190665070>,\n",
       " <matplotlib.lines.Line2D at 0x7fc190665190>,\n",
       " <matplotlib.lines.Line2D at 0x7fc1906652b0>,\n",
       " <matplotlib.lines.Line2D at 0x7fc190657940>,\n",
       " <matplotlib.lines.Line2D at 0x7fc1906653d0>,\n",
       " <matplotlib.lines.Line2D at 0x7fc1906655e0>,\n",
       " <matplotlib.lines.Line2D at 0x7fc190665700>,\n",
       " <matplotlib.lines.Line2D at 0x7fc190665820>,\n",
       " <matplotlib.lines.Line2D at 0x7fc190665940>,\n",
       " <matplotlib.lines.Line2D at 0x7fc190665a60>,\n",
       " <matplotlib.lines.Line2D at 0x7fc190665b80>,\n",
       " <matplotlib.lines.Line2D at 0x7fc190665ca0>,\n",
       " <matplotlib.lines.Line2D at 0x7fc190665dc0>,\n",
       " <matplotlib.lines.Line2D at 0x7fc190665ee0>,\n",
       " <matplotlib.lines.Line2D at 0x7fc19066e040>,\n",
       " <matplotlib.lines.Line2D at 0x7fc19066e160>,\n",
       " <matplotlib.lines.Line2D at 0x7fc19066e280>,\n",
       " <matplotlib.lines.Line2D at 0x7fc19066e3a0>,\n",
       " <matplotlib.lines.Line2D at 0x7fc19066e4c0>,\n",
       " <matplotlib.lines.Line2D at 0x7fc19066e5e0>,\n",
       " <matplotlib.lines.Line2D at 0x7fc19066e700>,\n",
       " <matplotlib.lines.Line2D at 0x7fc19066e820>,\n",
       " <matplotlib.lines.Line2D at 0x7fc19066e940>,\n",
       " <matplotlib.lines.Line2D at 0x7fc19066ea60>,\n",
       " <matplotlib.lines.Line2D at 0x7fc19066eb80>,\n",
       " <matplotlib.lines.Line2D at 0x7fc19066eca0>,\n",
       " <matplotlib.lines.Line2D at 0x7fc19066edc0>,\n",
       " <matplotlib.lines.Line2D at 0x7fc19066eee0>,\n",
       " <matplotlib.lines.Line2D at 0x7fc190673040>,\n",
       " <matplotlib.lines.Line2D at 0x7fc190673160>,\n",
       " <matplotlib.lines.Line2D at 0x7fc190673280>,\n",
       " <matplotlib.lines.Line2D at 0x7fc1906733a0>,\n",
       " <matplotlib.lines.Line2D at 0x7fc1906734c0>,\n",
       " <matplotlib.lines.Line2D at 0x7fc1906735e0>,\n",
       " <matplotlib.lines.Line2D at 0x7fc190673700>,\n",
       " <matplotlib.lines.Line2D at 0x7fc190673820>,\n",
       " <matplotlib.lines.Line2D at 0x7fc190673940>,\n",
       " <matplotlib.lines.Line2D at 0x7fc190673a60>,\n",
       " <matplotlib.lines.Line2D at 0x7fc190673b80>,\n",
       " <matplotlib.lines.Line2D at 0x7fc190673ca0>,\n",
       " <matplotlib.lines.Line2D at 0x7fc190673dc0>,\n",
       " <matplotlib.lines.Line2D at 0x7fc190673ee0>,\n",
       " <matplotlib.lines.Line2D at 0x7fc19067b040>,\n",
       " <matplotlib.lines.Line2D at 0x7fc19067b160>,\n",
       " <matplotlib.lines.Line2D at 0x7fc19067b280>,\n",
       " <matplotlib.lines.Line2D at 0x7fc19067b3a0>,\n",
       " <matplotlib.lines.Line2D at 0x7fc19067b4c0>,\n",
       " <matplotlib.lines.Line2D at 0x7fc19067b5e0>,\n",
       " <matplotlib.lines.Line2D at 0x7fc19067b700>,\n",
       " <matplotlib.lines.Line2D at 0x7fc19067b820>,\n",
       " <matplotlib.lines.Line2D at 0x7fc19067b940>,\n",
       " <matplotlib.lines.Line2D at 0x7fc19067ba60>,\n",
       " <matplotlib.lines.Line2D at 0x7fc19067bb80>,\n",
       " <matplotlib.lines.Line2D at 0x7fc19067bca0>,\n",
       " <matplotlib.lines.Line2D at 0x7fc19067bdc0>,\n",
       " <matplotlib.lines.Line2D at 0x7fc19067bee0>,\n",
       " <matplotlib.lines.Line2D at 0x7fc190681040>,\n",
       " <matplotlib.lines.Line2D at 0x7fc190681160>,\n",
       " <matplotlib.lines.Line2D at 0x7fc190681280>,\n",
       " <matplotlib.lines.Line2D at 0x7fc1906813a0>,\n",
       " <matplotlib.lines.Line2D at 0x7fc1906814c0>,\n",
       " <matplotlib.lines.Line2D at 0x7fc1906815e0>,\n",
       " <matplotlib.lines.Line2D at 0x7fc190681700>,\n",
       " <matplotlib.lines.Line2D at 0x7fc190681820>,\n",
       " <matplotlib.lines.Line2D at 0x7fc190681940>,\n",
       " <matplotlib.lines.Line2D at 0x7fc190681a60>,\n",
       " <matplotlib.lines.Line2D at 0x7fc190681b80>,\n",
       " <matplotlib.lines.Line2D at 0x7fc190681ca0>,\n",
       " <matplotlib.lines.Line2D at 0x7fc190681dc0>,\n",
       " <matplotlib.lines.Line2D at 0x7fc190681ee0>,\n",
       " <matplotlib.lines.Line2D at 0x7fc190687040>,\n",
       " <matplotlib.lines.Line2D at 0x7fc190687160>,\n",
       " <matplotlib.lines.Line2D at 0x7fc190687280>,\n",
       " <matplotlib.lines.Line2D at 0x7fc1906873a0>,\n",
       " <matplotlib.lines.Line2D at 0x7fc1906874c0>,\n",
       " <matplotlib.lines.Line2D at 0x7fc1906875e0>,\n",
       " <matplotlib.lines.Line2D at 0x7fc190687700>,\n",
       " <matplotlib.lines.Line2D at 0x7fc190687820>,\n",
       " <matplotlib.lines.Line2D at 0x7fc190687940>,\n",
       " <matplotlib.lines.Line2D at 0x7fc190687a60>,\n",
       " <matplotlib.lines.Line2D at 0x7fc190687b80>,\n",
       " <matplotlib.lines.Line2D at 0x7fc190687ca0>,\n",
       " <matplotlib.lines.Line2D at 0x7fc190687dc0>,\n",
       " <matplotlib.lines.Line2D at 0x7fc190687ee0>,\n",
       " <matplotlib.lines.Line2D at 0x7fc19060d040>,\n",
       " <matplotlib.lines.Line2D at 0x7fc19060d160>,\n",
       " <matplotlib.lines.Line2D at 0x7fc19060d280>,\n",
       " <matplotlib.lines.Line2D at 0x7fc19060d3a0>,\n",
       " <matplotlib.lines.Line2D at 0x7fc19060d4c0>,\n",
       " <matplotlib.lines.Line2D at 0x7fc19060d5e0>,\n",
       " <matplotlib.lines.Line2D at 0x7fc19060d700>,\n",
       " <matplotlib.lines.Line2D at 0x7fc19060d820>,\n",
       " <matplotlib.lines.Line2D at 0x7fc19060d940>]"
      ]
     },
     "execution_count": 6,
     "metadata": {},
     "output_type": "execute_result"
    }
   ],
   "source": [
    "plt.plot(all_positions)"
   ]
  },
  {
   "cell_type": "code",
   "execution_count": 32,
   "metadata": {},
   "outputs": [
    {
     "name": "stdout",
     "output_type": "stream",
     "text": [
      "[ 26.40999603 800.        ]\n",
      "[26.40999603 80.        ]\n",
      "[ 8.70882225 53.59000397]\n",
      "[53.590004  8.708822]\n"
     ]
    },
    {
     "data": {
      "text/plain": [
       "array([53.590004,  8.708822,  0.      ,  0.      ,  0.      ,  0.      ,\n",
       "        0.      ,  0.      ,  0.      ,  0.      ,  0.      ,  0.      ,\n",
       "        0.      ,  0.      ,  0.      ,  0.      ,  0.      ,  0.      ,\n",
       "        0.      ,  0.      ,  0.      ,  0.      ,  0.      ,  0.      ,\n",
       "        0.      ,  0.      ,  0.      ,  0.      ,  0.      ,  0.      ,\n",
       "        0.      ,  0.      ,  0.      ,  0.      ,  0.      ,  0.      ,\n",
       "        0.      ,  0.      ,  0.      ,  0.      ,  0.      ,  0.      ,\n",
       "        0.      ,  0.      ,  0.      ,  0.      ,  0.      ,  0.      ,\n",
       "        0.      ,  0.      ,  0.      ,  0.      ,  0.      ,  0.      ,\n",
       "        0.      ,  0.      ,  0.      ,  0.      ,  0.      ,  0.      ,\n",
       "        0.      ,  0.      ,  0.      ,  0.      ,  0.      ,  0.      ,\n",
       "        0.      ,  0.      ,  0.      ,  0.      ,  0.      ,  0.      ,\n",
       "        0.      ,  0.      ,  0.      ,  0.      ,  0.      ,  0.      ,\n",
       "        0.      ,  0.      ,  0.      ,  0.      ,  0.      ,  0.      ,\n",
       "        0.      ,  0.      ,  0.      ,  0.      ,  0.      ,  0.      ,\n",
       "        0.      ,  0.      ,  0.      ,  0.      ,  0.      ,  0.      ,\n",
       "        0.      ,  0.      ,  0.      ,  0.      ], dtype=float32)"
      ]
     },
     "execution_count": 32,
     "metadata": {},
     "output_type": "execute_result"
    }
   ],
   "source": [
    "t.q()"
   ]
  },
  {
   "cell_type": "code",
   "execution_count": 15,
   "metadata": {},
   "outputs": [
    {
     "data": {
      "text/plain": [
       "array([  0. , 100. ,   1.5,   0. ,   0. ])"
      ]
     },
     "execution_count": 15,
     "metadata": {},
     "output_type": "execute_result"
    }
   ],
   "source": [
    "position = np.array([4.0,3.5,2,1.4,0])\n",
    "active = np.array([False, True, True, False, False])\n",
    "output = np.zeros_like(position)\n",
    "d = -np.diff(position[active])\n",
    "output[active] = np.concatenate([[100], d])\n",
    "output"
   ]
  },
  {
   "cell_type": "code",
   "execution_count": 53,
   "metadata": {},
   "outputs": [],
   "source": [
    "position = np.array([0.0, 0.0, 0.0, 12, 0.0, 3.4])\n",
    "active = np.array([True, True, True, False, False, False])\n",
    "\n",
    "p = position[active]\n",
    "out = np.zeros_like(p)\n",
    "\n",
    "order = np.argsort(p)\n",
    "diff = np.diff(p[order])\n",
    "out[order] = np.concatenate([diff, [100]])\n",
    "output = np.zeros_like(position)\n",
    "output[active] = out"
   ]
  },
  {
   "cell_type": "code",
   "execution_count": 54,
   "metadata": {},
   "outputs": [
    {
     "data": {
      "text/plain": [
       "array([  0.,   0., 100.,   0.,   0.,   0.])"
      ]
     },
     "execution_count": 54,
     "metadata": {},
     "output_type": "execute_result"
    }
   ],
   "source": [
    "output"
   ]
  }
 ],
 "metadata": {
  "kernelspec": {
   "display_name": "Python 3 (ipykernel)",
   "language": "python",
   "name": "python3"
  },
  "language_info": {
   "codemirror_mode": {
    "name": "ipython",
    "version": 3
   },
   "file_extension": ".py",
   "mimetype": "text/x-python",
   "name": "python",
   "nbconvert_exporter": "python",
   "pygments_lexer": "ipython3",
   "version": "3.8.10"
  },
  "vscode": {
   "interpreter": {
    "hash": "59c1a52de7e6c2d3b8da094a86f8ab1053261f50dbe84ea6e8d5f2a16bd0ab6b"
   }
  }
 },
 "nbformat": 4,
 "nbformat_minor": 2
}
