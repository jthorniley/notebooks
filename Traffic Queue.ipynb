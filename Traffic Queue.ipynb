{
 "cells": [
  {
   "cell_type": "markdown",
   "metadata": {},
   "source": [
    "# Vehicle dynamics\n",
    "\n",
    "The position of vehicle $i$ is $x_i(t)$ The distance to the vehicle or object\n",
    "in front of vehicle $i$ is $q_i(t)$.\n",
    "\n",
    "The vehicle speed $v_i(t) = \\dot{x}_i(t)$. \n",
    "\n",
    "The control input to the vehicle is the acceleration $u_i$.\n",
    "\n",
    "The desired distance to the obstacle in front $\\hat{q}_i$ is calculated by scaling\n",
    "with the current vehicle speed:\n",
    "\n",
    "$$ \\hat{q}_i(t) = k_q v_i(t) $$\n",
    "\n",
    "Define a PD controller as:\n",
    "\n",
    "$$ r_i(t) = q_i(t) - \\hat{q}_i(t) $$\n",
    "$$ u_i = k_p r_i(t) + k_d \\frac{r_i(t) - r_i(t-\\Delta t)}{\\Delta t} $$\n"
   ]
  },
  {
   "cell_type": "markdown",
   "metadata": {},
   "source": [
    "## Single vehicle approaching fixed obstacle\n",
    "\n",
    "Let there be a vehicle starting at $x=0$ with an obstacle at $200$ so $q=200-x$."
   ]
  },
  {
   "cell_type": "code",
   "execution_count": 1,
   "metadata": {},
   "outputs": [],
   "source": [
    "import numpy as np"
   ]
  },
  {
   "cell_type": "code",
   "execution_count": 4,
   "metadata": {},
   "outputs": [],
   "source": [
    "# Dynamic variables\n",
    "x = 0\n",
    "v = 0\n",
    "\n",
    "# Runway\n",
    "q0 = 200\n",
    "\n",
    "# Desired distance\n",
    "kq = 5.0\n",
    "\n",
    "# Max/min speeds\n",
    "v_max = 20.0\n",
    "v_min = 0.0\n",
    "\n",
    "# Timestep\n",
    "dt = 0.1\n",
    "\n",
    "# r() at previous timestep\n",
    "r_old = 0\n",
    "\n",
    "# Control params\n",
    "k_d = 0.5\n",
    "k_p = 0.1\n",
    "\n",
    "def q():\n",
    "    global q0, x\n",
    "    return q0 - x\n",
    "\n",
    "def qhat() -> float:\n",
    "    global kq,v\n",
    "    return np.max([5.0, kq*v])\n",
    "\n",
    "def r():\n",
    "    return q() - qhat()\n",
    "\n",
    "def r_diff():\n",
    "    global r_old, dt\n",
    "    return (r() - r_old) / dt\n",
    "\n",
    "def u():\n",
    "    global k_p, k_d\n",
    "    return k_p * r() + k_d * r_diff()\n",
    "\n",
    "def step():\n",
    "    global x,v\n",
    "    u_calc = u()\n",
    "    v_calc = v + dt * u_calc\n",
    "    v_calc = np.min([v_max, np.max([v_min, v_calc])])\n",
    "    x_calc = x + dt * v_calc\n",
    "\n",
    "    x = x_calc\n",
    "    v = v_calc\n",
    "\n",
    "    r_old = r()\n",
    "\n",
    "N=1000\n",
    "result = np.zeros([N])\n",
    "n = 0\n",
    "while n < N:\n",
    "    result[n] = x\n",
    "    step()\n",
    "    n+= 1\n"
   ]
  },
  {
   "cell_type": "code",
   "execution_count": 5,
   "metadata": {},
   "outputs": [],
   "source": [
    "from matplotlib import pyplot as plt"
   ]
  },
  {
   "cell_type": "code",
   "execution_count": 8,
   "metadata": {},
   "outputs": [
    {
     "data": {
      "text/plain": [
       "[<matplotlib.lines.Line2D at 0x7f4508fbc520>]"
      ]
     },
     "execution_count": 8,
     "metadata": {},
     "output_type": "execute_result"
    },
    {
     "data": {
      "image/png": "[encoded data removed]",
      "text/plain": [
       "<Figure size 640x480 with 1 Axes>"
      ]
     },
     "metadata": {},
     "output_type": "display_data"
    }
   ],
   "source": [
    "plt.plot(result)"
   ]
  },
  {
   "cell_type": "code",
   "execution_count": null,
   "metadata": {},
   "outputs": [],
   "source": []
  }
 ],
 "metadata": {
  "kernelspec": {
   "display_name": "Python 3.8.10 ('notebooks-cRhpG1S--py3.8')",
   "language": "python",
   "name": "python3"
  },
  "language_info": {
   "codemirror_mode": {
    "name": "ipython",
    "version": 3
   },
   "file_extension": ".py",
   "mimetype": "text/x-python",
   "name": "python",
   "nbconvert_exporter": "python",
   "pygments_lexer": "ipython3",
   "version": "3.8.10"
  },
  "orig_nbformat": 4,
  "vscode": {
   "interpreter": {
    "hash": "59c1a52de7e6c2d3b8da094a86f8ab1053261f50dbe84ea6e8d5f2a16bd0ab6b"
   }
  }
 },
 "nbformat": 4,
 "nbformat_minor": 2
}
