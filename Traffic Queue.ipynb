{
 "cells": [
  {
   "cell_type": "markdown",
   "metadata": {},
   "source": [
    "# Vehicle dynamics\n",
    "\n",
    "The position of vehicle $i$ is $x_i(t)$ The distance to the vehicle or object\n",
    "in front of vehicle $i$ is $q_i(t)$.\n",
    "\n",
    "The vehicle speed $v_i(t) = \\dot{x}_i(t)$. \n",
    "\n",
    "The control input to the vehicle is the acceleration $u_i$.\n",
    "\n",
    "The desired distance to the obstacle in front $\\hat{q}_i$ is calculated by scaling\n",
    "with the current vehicle speed:\n",
    "\n",
    "$$ \\hat{q}_i(t) = k_q v_i(t) $$\n",
    "\n",
    "Define a PD controller as:\n",
    "\n",
    "$$ r_i(t) = q_i(t) - \\hat{q}_i(t) $$\n",
    "$$ u_i = k_p r_i(t) + k_d \\frac{r_i(t) - r_i(t-\\Delta t)}{\\Delta t} $$\n"
   ]
  },
  {
   "cell_type": "markdown",
   "metadata": {},
   "source": [
    "## Single vehicle approaching fixed obstacle\n",
    "\n",
    "Let there be a vehicle starting at $x=0$ with an obstacle at $200$ so $q=200-x$."
   ]
  },
  {
   "cell_type": "code",
   "execution_count": 1,
   "metadata": {},
   "outputs": [],
   "source": [
    "%matplotlib qt\n",
    "import numpy as np\n",
    "from matplotlib import pyplot as plt\n",
    "from matplotlib.animation import FuncAnimation\n",
    "from matplotlib.transforms import Affine2D\n",
    "from matplotlib.collections import CircleCollection\n"
   ]
  },
  {
   "cell_type": "code",
   "execution_count": 38,
   "metadata": {},
   "outputs": [],
   "source": [
    "class RandomTraffic:\n",
    "    def __init__(self, \n",
    "        n_vehicles: int,\n",
    "        track_length: float,\n",
    "        k_p: float, \n",
    "        k_d: float,\n",
    "        k_q: float,\n",
    "        k_qmin: float,\n",
    "        v_min: float,\n",
    "        v_max: float\n",
    "    ) -> None:\n",
    "        self.n_vehicles = n_vehicles\n",
    "        self.track_length = track_length\n",
    "        self.k_p = k_p\n",
    "        self.k_d = k_d\n",
    "        self.k_q = k_q\n",
    "        self.k_qmin = k_qmin\n",
    "        self.v_min = v_min\n",
    "        self.v_max = v_max\n",
    "        self.position = np.zeros(n_vehicles, dtype=np.float32)\n",
    "        self.velocity = np.zeros(n_vehicles, dtype=np.float32)\n",
    "        self.active = np.zeros(n_vehicles, dtype=np.bool8)\n",
    "        self.r_old = np.zeros(n_vehicles, dtype=np.float32)\n",
    "    \n",
    "    def enable_vehicle(self):\n",
    "        \"\"\"Find the first available vehicle slot and set active to True\"\"\"\n",
    "        argmin = self.active.argmin()\n",
    "        \n",
    "        if not self.active[argmin]:\n",
    "            # If argmin is already active, there's no space to add another vehicle\n",
    "            self.active[argmin] = True\n",
    "            self.position[argmin] = 0.0\n",
    "            self.velocity[argmin] = 0.0\n",
    "\n",
    "    def q(self):\n",
    "        p = self.position[self.active]\n",
    "        distance = np.zeros_like(p)\n",
    "\n",
    "        order = np.argsort(p)\n",
    "        diff = np.diff(p[order])\n",
    "        distance[order] = np.concatenate([diff, [100]])\n",
    "        output = np.zeros_like(self.position)\n",
    "        output[self.active] = distance        \n",
    "        return output\n",
    "\n",
    "    def qhat(self):\n",
    "        return np.max([self.k_qmin * np.ones_like(self.velocity), self.k_q * self.velocity], axis=0)\n",
    "\n",
    "    def r(self):\n",
    "        return self.q() - self.qhat()\n",
    "\n",
    "    def r_diff(self, dt):\n",
    "        return (self.r() - self.r_old) / dt\n",
    "\n",
    "    def u(self, dt):\n",
    "        return self.k_p * self.r() + self.k_d * self.r_diff(dt)\n",
    "        \n",
    "    def step(self, dt: float):\n",
    "        u_calc = self.u(dt)\n",
    "        v_calc = self.velocity + dt * u_calc\n",
    "        v_calc = np.clip(v_calc, self.v_min, self.v_max)\n",
    "        x_calc = self.position + dt * v_calc\n",
    "\n",
    "        self.velocity = v_calc\n",
    "        self.position = x_calc\n",
    "\n",
    "        self.active = self.active * (self.position < self.track_length)\n",
    "\n",
    "        self.r_old = self.r()\n",
    "        "
   ]
  },
  {
   "cell_type": "code",
   "execution_count": 39,
   "metadata": {},
   "outputs": [],
   "source": [
    "class Circles:\n",
    "    def __init__(self, traffic: RandomTraffic):\n",
    "        self.traffic = traffic\n",
    "        self.fig = plt.figure(figsize=(5, 1))\n",
    "        self.ax = self.fig.add_axes([0, 0, 1, 1], frameon=False)\n",
    "        self.ax.set_xlim([0, 200])\n",
    "        self.ax.set_ylim([0, 20])\n",
    "\n",
    "        self.circles = CircleCollection([], animated=True)\n",
    "        self.ax.add_artist(self.circles)\n",
    "\n",
    "    def update(self):\n",
    "        positions = self.traffic.position[self.traffic.active]\n",
    "        self.circles.set_sizes(np.ones_like(positions) * 10)\n",
    "        self.circles.set_offsets(np.c_[positions, 50 * np.ones_like(positions)])\n",
    "        return [self.circles]\n"
   ]
  },
  {
   "cell_type": "code",
   "execution_count": 40,
   "metadata": {},
   "outputs": [],
   "source": [
    "t = RandomTraffic(\n",
    "    n_vehicles=100,\n",
    "    track_length=200,\n",
    "    k_p=5,\n",
    "    k_d=1,\n",
    "    k_q=1,\n",
    "    k_qmin=4,\n",
    "    v_min=0,\n",
    "    v_max=20\n",
    ")\n",
    "t.enable_vehicle()\n",
    "circles = Circles(t)\n",
    "\n",
    "def update(frame):\n",
    "    if np.random.rand() < 0.05:\n",
    "        t.enable_vehicle()\n",
    "    t.step(0.05)\n",
    "    return circles.update()\n",
    "\n",
    "anim = FuncAnimation(circles.fig, update, interval=50, blit=True)\n"
   ]
  },
  {
   "cell_type": "code",
   "execution_count": 44,
   "metadata": {},
   "outputs": [
    {
     "data": {
      "text/plain": [
       "array([  0.        ,   0.        ,   0.        ,   0.        ,\n",
       "         0.        ,   0.        ,   0.        ,   0.        ,\n",
       "         0.        ,   0.        ,   0.        ,   0.        ,\n",
       "         0.        ,   0.        ,   0.        ,   0.        ,\n",
       "         0.        ,   0.        ,   0.        ,   0.        ,\n",
       "         0.        ,   0.        ,   0.        ,   0.        ,\n",
       "         0.        ,   0.        ,  17.275097  ,  12.903612  ,\n",
       "         7.0669556 ,   0.22277236,   0.        ,   0.        ,\n",
       "         0.        ,   0.        ,   0.        ,   0.        ,\n",
       "        19.531563  ,   0.        ,   0.        ,   0.        ,\n",
       "         0.        ,   0.        ,   0.        ,   0.        ,\n",
       "         0.        ,   0.        ,   0.        ,   0.        ,\n",
       "         0.        ,   0.        ,   0.        ,   0.        ,\n",
       "         0.        ,   0.        ,   0.        ,   0.        ,\n",
       "         0.        ,   0.        ,   0.        ,   0.        ,\n",
       "         0.        ,   0.        ,   0.        ,   0.        ,\n",
       "         0.        ,   0.        ,   0.        ,   0.        ,\n",
       "         0.        ,   0.        ,   0.        ,   0.        ,\n",
       "         0.        ,   0.        ,   0.        ,   0.        ,\n",
       "         0.        ,   0.        ,   0.        ,   0.        ,\n",
       "         0.        ,   0.        ,   0.        ,   0.        ,\n",
       "         0.        ,   0.        ,   0.        ,   0.        ,\n",
       "         0.        ,   0.        ,   0.        ,   0.        ,\n",
       "         0.        ,   0.        ,   0.        ,   0.        ,\n",
       "         0.        ,   0.        ,   0.        , 100.        ],\n",
       "      dtype=float32)"
      ]
     },
     "execution_count": 44,
     "metadata": {},
     "output_type": "execute_result"
    }
   ],
   "source": [
    "t.q()"
   ]
  },
  {
   "cell_type": "code",
   "execution_count": 15,
   "metadata": {},
   "outputs": [
    {
     "data": {
      "text/plain": [
       "array([  0. , 100. ,   1.5,   0. ,   0. ])"
      ]
     },
     "execution_count": 15,
     "metadata": {},
     "output_type": "execute_result"
    }
   ],
   "source": [
    "position = np.array([4.0,3.5,2,1.4,0])\n",
    "active = np.array([False, True, True, False, False])\n",
    "output = np.zeros_like(position)\n",
    "d = -np.diff(position[active])\n",
    "output[active] = np.concatenate([[100], d])\n",
    "output"
   ]
  },
  {
   "cell_type": "code",
   "execution_count": 53,
   "metadata": {},
   "outputs": [],
   "source": [
    "position = np.array([0.0, 0.0, 0.0, 12, 0.0, 3.4])\n",
    "active = np.array([True, True, True, False, False, False])\n",
    "\n",
    "p = position[active]\n",
    "out = np.zeros_like(p)\n",
    "\n",
    "order = np.argsort(p)\n",
    "diff = np.diff(p[order])\n",
    "out[order] = np.concatenate([diff, [100]])\n",
    "output = np.zeros_like(position)\n",
    "output[active] = out"
   ]
  },
  {
   "cell_type": "code",
   "execution_count": 54,
   "metadata": {},
   "outputs": [
    {
     "data": {
      "text/plain": [
       "array([  0.,   0., 100.,   0.,   0.,   0.])"
      ]
     },
     "execution_count": 54,
     "metadata": {},
     "output_type": "execute_result"
    }
   ],
   "source": [
    "output"
   ]
  },
  {
   "cell_type": "code",
   "execution_count": null,
   "metadata": {},
   "outputs": [],
   "source": []
  }
 ],
 "metadata": {
  "kernelspec": {
   "display_name": "Python 3 (ipykernel)",
   "language": "python",
   "name": "python3"
  },
  "language_info": {
   "codemirror_mode": {
    "name": "ipython",
    "version": 3
   },
   "file_extension": ".py",
   "mimetype": "text/x-python",
   "name": "python",
   "nbconvert_exporter": "python",
   "pygments_lexer": "ipython3",
   "version": "3.8.10"
  },
  "vscode": {
   "interpreter": {
    "hash": "59c1a52de7e6c2d3b8da094a86f8ab1053261f50dbe84ea6e8d5f2a16bd0ab6b"
   }
  }
 },
 "nbformat": 4,
 "nbformat_minor": 2
}
